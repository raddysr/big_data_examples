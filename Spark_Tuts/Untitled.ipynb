{
 "cells": [
  {
   "cell_type": "code",
   "execution_count": 31,
   "id": "ad2c183f-ec01-4ef1-b864-5bdcebdd0088",
   "metadata": {},
   "outputs": [],
   "source": [
    "from pyspark import SparkContext\n",
    "from pyspark import SparkConf\n",
    "\n",
    "\n",
    "#conf = SparkConf().setAppName(\"Wodr Counter\")\n",
    "#sc = SparkContext(conf=conf)\n",
    "text_file = sc.textFile(\"README.md\")\n",
    "tokenized_filedata = text_file.flatMap(lambda x: x.split(\" \"))\n",
    "count_prep = tokenized_filedata.map(lambda x: (x,1))\n",
    "counts = count_prep.reduceByKey(lambda x, y: x + y)\n",
    "sorted_counts = counts.sortBy((lambda x: x[1]),ascending=False)\n",
    "\n",
    "\n",
    "sorted_counts.saveAsTextFile('Hello_world')"
   ]
  },
  {
   "cell_type": "code",
   "execution_count": 55,
   "id": "579b2431-224c-49c2-9129-21904ecfe248",
   "metadata": {},
   "outputs": [
    {
     "data": {
      "text/plain": [
       "6"
      ]
     },
     "execution_count": 55,
     "metadata": {},
     "output_type": "execute_result"
    }
   ],
   "source": [
    "from functools import reduce\n",
    "\n",
    "a = [1,2,3]\n",
    "\n",
    "b = reduce((lambda x, y: x + y), a)\n",
    "\n",
    "b"
   ]
  },
  {
   "cell_type": "code",
   "execution_count": null,
   "id": "30a68c23-9e7f-4544-af6c-539cd490b5de",
   "metadata": {},
   "outputs": [],
   "source": []
  }
 ],
 "metadata": {
  "kernelspec": {
   "display_name": "Python 3",
   "language": "python",
   "name": "python3"
  },
  "language_info": {
   "codemirror_mode": {
    "name": "ipython",
    "version": 3
   },
   "file_extension": ".py",
   "mimetype": "text/x-python",
   "name": "python",
   "nbconvert_exporter": "python",
   "pygments_lexer": "ipython3",
   "version": "3.8.8"
  }
 },
 "nbformat": 4,
 "nbformat_minor": 5
}
